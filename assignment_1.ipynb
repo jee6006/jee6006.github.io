{
  "nbformat": 4,
  "nbformat_minor": 0,
  "metadata": {
    "colab": {
      "name": "assignment_1.ipynb",
      "provenance": [],
      "authorship_tag": "ABX9TyPY2OdS4D3mBE7QEE29SFYt",
      "include_colab_link": true
    },
    "kernelspec": {
      "name": "python3",
      "display_name": "Python 3"
    },
    "language_info": {
      "name": "python"
    }
  },
  "cells": [
    {
      "cell_type": "markdown",
      "metadata": {
        "id": "view-in-github",
        "colab_type": "text"
      },
      "source": [
        "<a href=\"https://colab.research.google.com/github/jee6006/jee6006.github.io/blob/master/assignment_1.ipynb\" target=\"_parent\"><img src=\"https://colab.research.google.com/assets/colab-badge.svg\" alt=\"Open In Colab\"/></a>"
      ]
    },
    {
      "cell_type": "code",
      "execution_count": 68,
      "metadata": {
        "colab": {
          "base_uri": "https://localhost:8080/"
        },
        "id": "i0Gv22iqvqA1",
        "outputId": "6ab09c19-71e8-45a7-8e43-d84d616c087c"
      },
      "outputs": [
        {
          "output_type": "stream",
          "name": "stdout",
          "text": [
            "166333\n"
          ]
        }
      ],
      "source": [
        "def Myfunc_a(n):\n",
        "  a = []  \n",
        "  for i in range(0, int(1000/n)):\n",
        "    a.append(n*(i+1))\n",
        "  return a \n",
        "\n",
        "def Myfunc_b(a, b):\n",
        "  c = Myfunc_a(1)\n",
        "  d = Myfunc_a(a)\n",
        "  e = Myfunc_a(b)\n",
        "\n",
        "\n",
        "  f = [x for x in c if x not in d]\n",
        "  g = [x for x in f if x not in e]\n",
        "  return sum(g)\n",
        "\n",
        "def Myfunc_c(a):\n",
        "  k = []\n",
        "  for i in range(1, a):\n",
        "    if a%(i+1) == 0:\n",
        "      k.append(i+1)\n",
        "  \n",
        "  if len(k) == 1:\n",
        "    print(\"a is a prime number.\")\n",
        "    return k\n",
        "  else:\n",
        "    return k\n",
        "\n",
        "\n",
        "def Myfunc_d(a,b):\n",
        "  ans1 = []\n",
        "  ans2 = []\n",
        "  for j in range(1, 1001):\n",
        "    for i in range(1, a + 1):\n",
        "      if (a % i == 0) & (j % i == 0):\n",
        "        y = i\n",
        "    \n",
        "    if y == 1:\n",
        "      ans1.append(j)\n",
        "\n",
        "  for l in range(1, 1001):\n",
        "    for i in range(1, b + 1):\n",
        "      if (b % i == 0) & (l % i == 0):\n",
        "        y = i\n",
        "\n",
        "    if y == 1:\n",
        "      ans2.append(l)\n",
        "\n",
        "  h = [x for x in ans1 if x in ans2]\n",
        "  \n",
        "\n",
        "  return sum(h)"
      ]
    }
  ]
}